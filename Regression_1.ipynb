{
 "cells": [
  {
   "cell_type": "code",
   "execution_count": 8,
   "id": "b280208d-cbdb-4f95-a937-5caf208e6e54",
   "metadata": {},
   "outputs": [
    {
     "name": "stdout",
     "output_type": "stream",
     "text": [
      "XMean: 11.9\n",
      "YMean: 29.2\n",
      "t0: [4.04032645], t1: [[2.11425828]]\n",
      "R^2: 0.9331099817232115\n"
     ]
    }
   ],
   "source": [
    "import pandas as pd\n",
    "import numpy as np\n",
    "from sklearn.linear_model import LinearRegression\n",
    "\n",
    "data = pd.read_csv('data1.csv', delimiter=';', index_col='id')\n",
    "data.head()\n",
    "model = LinearRegression()\n",
    "\n",
    "nMean = data['X'].mean()\n",
    "print('XMean: ' + str(nMean))\n",
    "tMean = data['Y'].mean()\n",
    "print('YMean: ' + str(tMean))\n",
    "n = data[['X']]\n",
    "t = data[['Y']]\n",
    "\n",
    "model.fit(n, t)\n",
    "r_sq = model.score(n, t)\n",
    "t0 = model.intercept_\n",
    "t1 = model.coef_\n",
    "print('t0: ' + str(t0) + ', t1: ' + str(t1))\n",
    "print('R^2:', r_sq)"
   ]
  },
  {
   "cell_type": "code",
   "execution_count": null,
   "id": "c076df86-c4b4-4ad8-86bf-6de077523949",
   "metadata": {},
   "outputs": [],
   "source": []
  }
 ],
 "metadata": {
  "kernelspec": {
   "display_name": "Python 3.11.8 64-bit (microsoft store)",
   "language": "python",
   "name": "python3"
  },
  "language_info": {
   "codemirror_mode": {
    "name": "ipython",
    "version": 3
   },
   "file_extension": ".py",
   "mimetype": "text/x-python",
   "name": "python",
   "nbconvert_exporter": "python",
   "pygments_lexer": "ipython3",
   "version": "3.11.8"
  },
  "vscode": {
   "interpreter": {
    "hash": "d1e76f36fd497ba09966a644cdb5ca2914f26d4c9a4ffe25cd98fef631710b92"
   }
  }
 },
 "nbformat": 4,
 "nbformat_minor": 5
}
