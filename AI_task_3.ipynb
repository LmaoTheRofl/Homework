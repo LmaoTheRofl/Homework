{
  "cells": [
    {
      "cell_type": "code",
      "execution_count": 1,
      "metadata": {
        "id": "Rt9NmZ89UFLO"
      },
      "outputs": [],
      "source": [
        "import torch\n",
        "import torchvision\n",
        "from torchvision.datasets import MNIST\n",
        "import matplotlib.pyplot as plt\n",
        "import torchvision.transforms as transforms\n",
        "from torch.utils.data import random_split\n",
        "from torch.utils.data import DataLoader\n",
        "import torch.nn.functional as F"
      ]
    },
    {
      "cell_type": "code",
      "execution_count": 2,
      "metadata": {
        "id": "FDBj-B3-Ukei"
      },
      "outputs": [],
      "source": [
        "mnist_dataset = MNIST(root = 'data/', train = True, transform = transforms.ToTensor(), download=True)"
      ]
    },
    {
      "cell_type": "code",
      "execution_count": 3,
      "metadata": {
        "colab": {
          "base_uri": "https://localhost:8080/"
        },
        "id": "CKtQsEMzXEvD",
        "outputId": "6e1aa1b6-8440-45ff-c5d5-87c375712525"
      },
      "outputs": [
        {
          "name": "stdout",
          "output_type": "stream",
          "text": [
            "torch.Size([1, 28, 28]) 5\n"
          ]
        }
      ],
      "source": [
        "image_tensor, label = mnist_dataset[0]\n",
        "print(image_tensor.shape, label)"
      ]
    },
    {
      "cell_type": "code",
      "execution_count": 4,
      "metadata": {
        "colab": {
          "base_uri": "https://localhost:8080/",
          "height": 447
        },
        "id": "tbYtiBAlVADF",
        "outputId": "d457c303-9efd-4efe-9dd4-0b60a361f7de"
      },
      "outputs": [
        {
          "name": "stdout",
          "output_type": "stream",
          "text": [
            "1\n"
          ]
        },
        {
          "data": {
            "image/png": "[encoded data removed]",
            "text/plain": [
              "<Figure size 640x480 with 1 Axes>"
            ]
          },
          "metadata": {},
          "output_type": "display_data"
        }
      ],
      "source": [
        "mnist_dataset[0][0].numpy()[0].shape\n",
        "plt.imshow(mnist_dataset[6][0].numpy()[0])\n",
        "print(mnist_dataset[6][1])"
      ]
    },
    {
      "cell_type": "code",
      "execution_count": 5,
      "metadata": {
        "colab": {
          "base_uri": "https://localhost:8080/"
        },
        "id": "SiEnKP6KVHkk",
        "outputId": "032710ac-cd88-436b-cf5a-d2f9cc323923"
      },
      "outputs": [
        {
          "name": "stdout",
          "output_type": "stream",
          "text": [
            "length of Train Datasets:  48000\n",
            "length of Validation Datasets:  12000\n"
          ]
        }
      ],
      "source": [
        "train_data, validation_data = random_split(mnist_dataset, [48000, 12000])\n",
        "## Print the length of train and validation datasets\n",
        "print(\"length of Train Datasets: \", len(train_data))\n",
        "print(\"length of Validation Datasets: \", len(validation_data))"
      ]
    },
    {
      "cell_type": "code",
      "execution_count": 6,
      "metadata": {
        "id": "hTOEHHbZROXb"
      },
      "outputs": [],
      "source": [
        "batch_size = 32\n",
        "train_loader = DataLoader(train_data, batch_size, shuffle = True)\n",
        "val_loader = DataLoader(validation_data, batch_size, shuffle = False)"
      ]
    },
    {
      "cell_type": "code",
      "execution_count": 7,
      "metadata": {
        "colab": {
          "base_uri": "https://localhost:8080/"
        },
        "id": "8rgdvSu8a5BP",
        "outputId": "054e5f3d-a64c-4a30-ab58-f5a4b3e6af1a"
      },
      "outputs": [
        {
          "name": "stdout",
          "output_type": "stream",
          "text": [
            "torch.Size([10, 784])\n",
            "Parameter containing:\n",
            "tensor([[-0.0075,  0.0106, -0.0258,  ...,  0.0094, -0.0047,  0.0075],\n",
            "        [ 0.0025, -0.0137, -0.0203,  ...,  0.0004, -0.0111,  0.0027],\n",
            "        [-0.0192,  0.0106, -0.0038,  ..., -0.0132, -0.0339,  0.0110],\n",
            "        ...,\n",
            "        [-0.0102, -0.0308,  0.0313,  ...,  0.0188, -0.0188, -0.0011],\n",
            "        [-0.0062, -0.0118,  0.0080,  ..., -0.0097, -0.0022,  0.0104],\n",
            "        [ 0.0300, -0.0176,  0.0170,  ...,  0.0257,  0.0214,  0.0197]],\n",
            "       requires_grad=True)\n",
            "torch.Size([10])\n",
            "Parameter containing:\n",
            "tensor([ 0.0242, -0.0100,  0.0065, -0.0002, -0.0076, -0.0325, -0.0081, -0.0293,\n",
            "        -0.0262,  0.0305], requires_grad=True)\n"
          ]
        }
      ],
      "source": [
        "import torch.nn as nn\n",
        "\n",
        "input_size = 28 * 28\n",
        "num_classes = 10\n",
        "\n",
        "## Logistic regression model\n",
        "model = nn.Linear(input_size, num_classes)\n",
        "print(model.weight.shape)\n",
        "print(model.weight)\n",
        "print(model.bias.shape)\n",
        "print(model.bias)"
      ]
    },
    {
      "cell_type": "code",
      "execution_count": 8,
      "metadata": {
        "colab": {
          "base_uri": "https://localhost:8080/"
        },
        "id": "p362bCIPRRcl",
        "outputId": "344e2d5d-8556-43de-d83b-a6d59d0bc962"
      },
      "outputs": [
        {
          "name": "stdout",
          "output_type": "stream",
          "text": [
            "torch.Size([10, 784]) torch.Size([10])\n"
          ]
        },
        {
          "data": {
            "text/plain": [
              "[Parameter containing:\n",
              " tensor([[ 0.0100, -0.0074,  0.0086,  ..., -0.0247,  0.0053, -0.0249],\n",
              "         [ 0.0134, -0.0200,  0.0040,  ..., -0.0159,  0.0285, -0.0285],\n",
              "         [ 0.0251,  0.0150, -0.0142,  ...,  0.0050,  0.0278, -0.0142],\n",
              "         ...,\n",
              "         [ 0.0051,  0.0104, -0.0025,  ..., -0.0194,  0.0333, -0.0117],\n",
              "         [-0.0082, -0.0163,  0.0195,  ...,  0.0315,  0.0074,  0.0297],\n",
              "         [-0.0258,  0.0266,  0.0217,  ...,  0.0191, -0.0041, -0.0031]],\n",
              "        requires_grad=True),\n",
              " Parameter containing:\n",
              " tensor([-0.0014, -0.0029, -0.0133,  0.0212, -0.0228, -0.0160, -0.0251,  0.0187,\n",
              "          0.0002,  0.0140], requires_grad=True)]"
            ]
          },
          "execution_count": 8,
          "metadata": {},
          "output_type": "execute_result"
        }
      ],
      "source": [
        "class MnistModel(nn.Module):\n",
        "    def __init__(self):\n",
        "        super().__init__()\n",
        "        self.linear = nn.Linear(input_size, num_classes)\n",
        "\n",
        "    def forward(self, xb):\n",
        "        xb = xb.reshape(-1, 784)\n",
        "        print(xb)\n",
        "        out = self.linear(xb)\n",
        "        print(out)\n",
        "        return out\n",
        "\n",
        "model = MnistModel()\n",
        "print(model.linear.weight.shape, model.linear.bias.shape)\n",
        "list(model.parameters())"
      ]
    },
    {
      "cell_type": "code",
      "execution_count": 9,
      "metadata": {
        "colab": {
          "base_uri": "https://localhost:8080/"
        },
        "id": "QsrWXH8MVjTh",
        "outputId": "ab30db5d-cbf5-4043-d882-e653c50157ca"
      },
      "outputs": [
        {
          "name": "stdout",
          "output_type": "stream",
          "text": [
            "tensor([[0., 0., 0.,  ..., 0., 0., 0.],\n",
            "        [0., 0., 0.,  ..., 0., 0., 0.],\n",
            "        [0., 0., 0.,  ..., 0., 0., 0.],\n",
            "        ...,\n",
            "        [0., 0., 0.,  ..., 0., 0., 0.],\n",
            "        [0., 0., 0.,  ..., 0., 0., 0.],\n",
            "        [0., 0., 0.,  ..., 0., 0., 0.]])\n",
            "tensor([[-3.0921e-02, -1.5673e-01,  5.4140e-02, -8.4525e-02,  2.3353e-01,\n",
            "          4.4029e-01,  9.8093e-02, -1.9977e-01, -1.9435e-01,  8.0753e-02],\n",
            "        [ 1.7939e-02,  2.0223e-01, -2.9829e-01, -2.5551e-01, -1.1303e-01,\n",
            "          2.7625e-01, -3.2830e-01, -2.7898e-01, -1.6298e-01, -2.2456e-01],\n",
            "        [-2.0453e-01,  1.5807e-01, -1.6607e-01, -1.1365e-01,  9.3346e-02,\n",
            "          2.9830e-01, -4.1675e-02,  1.7348e-01, -4.3310e-01, -2.0497e-01],\n",
            "        [-7.0291e-02,  1.2446e-01, -2.1182e-01, -2.1206e-01, -2.1289e-01,\n",
            "          2.2304e-01, -1.6117e-01, -7.1248e-02, -1.0791e-01, -2.7566e-01],\n",
            "        [-1.2180e-01, -2.3279e-01, -3.0349e-01, -1.2501e-01,  3.6106e-01,\n",
            "          1.3200e-01,  2.0108e-01, -2.4704e-02, -2.3177e-01,  4.8617e-02],\n",
            "        [-2.9771e-02,  4.4691e-02, -3.7267e-02, -1.1833e-01,  2.3021e-01,\n",
            "         -3.8917e-02,  7.8361e-02,  1.1640e-01, -7.1950e-02,  2.3826e-02],\n",
            "        [-8.3526e-02, -2.8564e-01, -2.8946e-01, -3.2902e-01, -3.0874e-02,\n",
            "          1.5674e-01, -1.0788e-01, -1.0351e-01, -2.4787e-01, -1.6348e-01],\n",
            "        [-6.4013e-02, -1.0623e-01, -1.4010e-01, -2.5118e-01,  1.7040e-01,\n",
            "         -7.2474e-02,  1.9129e-01,  1.7623e-02, -3.1667e-01, -1.0056e-01],\n",
            "        [-4.5807e-02,  2.4453e-01, -1.4047e-01, -2.9428e-01,  6.7116e-03,\n",
            "          1.7391e-01, -5.0102e-01, -2.8808e-01, -2.1205e-01,  1.2608e-01],\n",
            "        [ 9.2936e-03, -2.1883e-01, -5.2102e-01, -3.4467e-01,  2.5152e-01,\n",
            "          4.0617e-02,  3.0460e-02, -1.5173e-01, -1.4025e-01, -2.4960e-02],\n",
            "        [-1.5114e-01,  1.7941e-02, -1.7293e-01, -1.3669e-01,  7.8321e-02,\n",
            "          2.1575e-01, -9.8567e-02,  7.9849e-02,  2.2368e-02, -7.6937e-02],\n",
            "        [ 1.6478e-01, -1.8865e-01, -2.6616e-01, -8.5468e-02,  2.1039e-01,\n",
            "         -9.9966e-02, -7.9906e-03,  1.1282e-02, -7.6377e-03,  1.7575e-02],\n",
            "        [-1.9080e-02,  1.1833e-01, -2.8625e-01, -2.2749e-01, -5.8177e-04,\n",
            "          1.9439e-01,  1.0612e-01,  1.4392e-01, -2.1277e-03,  4.4091e-02],\n",
            "        [ 1.8612e-01, -7.7872e-02, -1.5131e-01,  5.2740e-03,  2.7367e-01,\n",
            "         -1.6662e-01,  1.1902e-01, -1.4682e-02, -1.0202e-01, -4.6344e-03],\n",
            "        [ 6.6199e-02,  1.3755e-01, -1.4607e-01, -1.4934e-02, -4.3032e-02,\n",
            "          3.8589e-01, -1.3129e-01, -1.7138e-01, -1.0296e+00, -2.8788e-01],\n",
            "        [ 8.2364e-02, -1.6983e-01, -1.9208e-02,  3.7864e-02,  2.1221e-01,\n",
            "          1.4404e-01, -1.0881e-01, -3.0791e-01, -3.7649e-01, -3.4127e-01],\n",
            "        [-1.4089e-01,  2.1135e-01, -1.8044e-01, -2.2872e-01,  1.4038e-01,\n",
            "          2.3068e-01,  2.0410e-03,  7.4383e-03, -3.3479e-01,  2.3838e-02],\n",
            "        [ 6.0947e-02, -1.8902e-03, -5.0146e-02,  3.1008e-02, -1.1857e-01,\n",
            "         -1.7757e-02,  5.8768e-02, -2.1494e-01, -1.7732e-01, -2.2924e-01],\n",
            "        [-1.1368e-01,  1.1773e-01, -3.6724e-01, -1.7651e-04, -2.2931e-01,\n",
            "          2.8084e-01, -6.4402e-02, -1.0685e-01, -3.1530e-01, -4.9845e-01],\n",
            "        [-2.7649e-02, -1.6416e-01, -3.4123e-01, -4.0190e-02,  2.5820e-01,\n",
            "          6.6707e-01,  7.0834e-02, -3.9481e-01, -1.0244e+00, -5.8952e-01],\n",
            "        [-1.0574e-01,  2.0784e-01, -1.1056e-01, -2.0807e-01,  7.7469e-02,\n",
            "          2.7383e-01,  1.4712e-01, -1.2609e-01, -1.6691e-01, -1.5557e-01],\n",
            "        [ 3.8441e-02, -9.6859e-02, -2.0205e-01, -2.3729e-01,  1.0612e-01,\n",
            "          1.1630e-01, -1.5303e-01, -2.7304e-01, -1.5249e-01, -1.1866e-01],\n",
            "        [-1.3481e-02, -1.5043e-01,  6.5722e-02, -2.8895e-01, -7.6316e-02,\n",
            "          8.3530e-02,  6.0514e-02, -6.7415e-02, -2.0839e-01,  1.1377e-01],\n",
            "        [-1.6753e-01, -5.3517e-02, -1.5605e-02, -2.0904e-01,  1.8677e-01,\n",
            "          8.5031e-02,  5.1436e-02,  1.2258e-01, -1.7322e-01, -1.0092e-02],\n",
            "        [ 9.8825e-02,  1.8419e-01, -3.3165e-01, -3.0953e-01, -2.9817e-01,\n",
            "          1.2705e-01,  1.8533e-01, -1.1588e-01, -1.3756e-01, -1.3370e-01],\n",
            "        [ 1.9369e-01,  2.8246e-01, -1.2520e-01, -1.5884e-01,  1.6173e-02,\n",
            "          1.6977e-01, -8.5718e-02, -2.1408e-01, -2.6678e-01, -1.0098e-01],\n",
            "        [-8.6838e-02,  8.8465e-02, -2.1985e-01, -2.3905e-01,  1.2008e-01,\n",
            "          2.8522e-01, -1.5045e-01,  2.7969e-01, -2.0450e-01, -4.4215e-03],\n",
            "        [ 4.6787e-04, -6.6164e-02,  2.4447e-01, -1.1294e-01,  1.3919e-01,\n",
            "          4.1842e-01,  7.0318e-02,  1.7481e-02, -3.1836e-01, -1.2284e-01],\n",
            "        [-1.3551e-01, -7.1804e-02, -6.3965e-02, -3.2834e-02,  3.2851e-03,\n",
            "          1.4921e-01, -1.1775e-01, -1.6162e-02, -5.6955e-01, -7.8508e-02],\n",
            "        [-1.3399e-01,  4.0743e-02, -4.7097e-02, -3.0311e-01, -2.3132e-01,\n",
            "          2.5098e-01,  5.2460e-02,  1.4509e-01, -7.8560e-02, -1.4506e-01],\n",
            "        [-9.3433e-02,  6.4146e-02, -1.3320e-01, -1.0763e-01, -2.6036e-02,\n",
            "          3.4869e-01, -1.3081e-01, -5.3742e-02, -4.2145e-01, -1.7496e-01],\n",
            "        [-1.5471e-01,  3.2777e-01,  5.2058e-02,  7.6494e-02,  1.4102e-02,\n",
            "          1.4374e-01, -1.1931e-01,  1.8848e-01, -2.0128e-01, -2.0793e-02]],\n",
            "       grad_fn=<AddmmBackward0>)\n",
            "outputs shape:  torch.Size([32, 10])\n",
            "Sample outputs: \n",
            " tensor([[-0.0309, -0.1567,  0.0541, -0.0845,  0.2335,  0.4403,  0.0981, -0.1998,\n",
            "         -0.1944,  0.0808],\n",
            "        [ 0.0179,  0.2022, -0.2983, -0.2555, -0.1130,  0.2762, -0.3283, -0.2790,\n",
            "         -0.1630, -0.2246]])\n"
          ]
        }
      ],
      "source": [
        "for images, labels in train_loader:\n",
        "    outputs = model(images)\n",
        "    break\n",
        "\n",
        "print('outputs shape: ', outputs.shape)\n",
        "print('Sample outputs: \\n', outputs[:2].data)"
      ]
    },
    {
      "cell_type": "code",
      "execution_count": 10,
      "metadata": {
        "colab": {
          "base_uri": "https://localhost:8080/"
        },
        "id": "dHY-J32uU5EU",
        "outputId": "4da4e136-a732-46fe-8c6d-b1be4d4e46b2"
      },
      "outputs": [
        {
          "name": "stdout",
          "output_type": "stream",
          "text": [
            "Sample probabilities:\n",
            " tensor([[0.0928, 0.0819, 0.1011, 0.0880, 0.1209, 0.1487, 0.1056, 0.0784, 0.0788,\n",
            "         0.1038],\n",
            "        [0.1119, 0.1346, 0.0816, 0.0852, 0.0982, 0.1449, 0.0792, 0.0832, 0.0934,\n",
            "         0.0878]])\n",
            "\n",
            "\n",
            "Sum:  1.0\n",
            "\n",
            "\n",
            "tensor([5, 5, 5, 5, 4, 4, 5, 6, 1, 4, 5, 4, 5, 4, 5, 4, 5, 0, 5, 5, 5, 5, 9, 4,\n",
            "        6, 1, 5, 5, 5, 5, 5, 1])\n",
            "\n",
            "\n",
            "tensor([0.1487, 0.1449, 0.1377, 0.1362, 0.1447, 0.1228, 0.1343, 0.1280, 0.1367,\n",
            "        0.1401, 0.1260, 0.1254, 0.1193, 0.1293, 0.1578, 0.1320, 0.1273, 0.1129,\n",
            "        0.1471, 0.2074, 0.1318, 0.1227, 0.1166, 0.1218, 0.1270, 0.1344, 0.1323,\n",
            "        0.1450, 0.1257, 0.1327, 0.1498, 0.1330], grad_fn=<MaxBackward0>)\n"
          ]
        }
      ],
      "source": [
        "probs = F.softmax(outputs, dim = 1)\n",
        "\n",
        "## chaecking at sample probabilities\n",
        "print(\"Sample probabilities:\\n\", probs[:2].data)\n",
        "\n",
        "print(\"\\n\")\n",
        "## Add up the probabilities of an output row\n",
        "print(\"Sum: \", torch.sum(probs[0]).item())\n",
        "max_probs, preds = torch.max(probs, dim = 1)\n",
        "print(\"\\n\")\n",
        "print(preds)\n",
        "print(\"\\n\")\n",
        "print(max_probs)"
      ]
    },
    {
      "cell_type": "code",
      "execution_count": 11,
      "metadata": {
        "colab": {
          "base_uri": "https://localhost:8080/"
        },
        "id": "6IdhlPX5cluT",
        "outputId": "09e09d8a-f2b0-4a1b-a0e9-ab8da54ecf9f"
      },
      "outputs": [
        {
          "data": {
            "text/plain": [
              "tensor([7, 6, 8, 6, 9, 9, 3, 3, 4, 3, 1, 1, 3, 1, 0, 0, 7, 6, 6, 0, 8, 6, 3, 5,\n",
              "        3, 9, 4, 6, 0, 1, 0, 4])"
            ]
          },
          "execution_count": 11,
          "metadata": {},
          "output_type": "execute_result"
        }
      ],
      "source": [
        "labels\n"
      ]
    },
    {
      "cell_type": "code",
      "execution_count": 12,
      "metadata": {
        "colab": {
          "base_uri": "https://localhost:8080/"
        },
        "id": "mUfnaZEqcmBJ",
        "outputId": "047d8e90-9c3a-420e-906a-f2e2f287bd8e"
      },
      "outputs": [
        {
          "name": "stdout",
          "output_type": "stream",
          "text": [
            "Accuracy:  tensor(0.)\n",
            "\n",
            "\n",
            "Loss Function:  <function cross_entropy at 0x000001EE980D8F40>\n",
            "\n",
            "\n",
            "2.368177890777588\n"
          ]
        }
      ],
      "source": [
        "def accuracy(outputs, labels):\n",
        "    _, preds = torch.max(outputs, dim = 1)\n",
        "    return(torch.tensor(torch.sum(preds == labels).item()/ len(preds)))\n",
        "\n",
        "print(\"Accuracy: \",accuracy(outputs, labels))\n",
        "print(\"\\n\")\n",
        "loss_fn = F.cross_entropy\n",
        "print(\"Loss Function: \",loss_fn)\n",
        "print(\"\\n\")\n",
        "## Loss for the current batch\n",
        "loss = loss_fn(outputs, labels)\n",
        "print(loss.item())"
      ]
    },
    {
      "cell_type": "code",
      "execution_count": 13,
      "metadata": {
        "id": "HclorVY_cwli"
      },
      "outputs": [],
      "source": [
        "class MnistModel(nn.Module):\n",
        "    def __init__(self):\n",
        "        super().__init__()\n",
        "        self.layers = nn.Sequential(\n",
        "            nn.Linear(input_size, 400),\n",
        "            nn.Linear(400, 200),\n",
        "            nn.Linear(200, num_classes)\n",
        "        )\n",
        "        \n",
        "\n",
        "    def forward(self, xb):\n",
        "        xb = xb.reshape(-1, 784)\n",
        "        out = self.layers(xb)\n",
        "        return out\n",
        "\n",
        "    def training_step(self, batch):\n",
        "        images, labels = batch\n",
        "        out = self(images) ## Generate predictions\n",
        "        loss = F.cross_entropy(out, labels) ## Calculate the loss\n",
        "        return loss\n",
        "\n",
        "    def validation_step(self, batch):\n",
        "        images, labels = batch\n",
        "        out = self(images)\n",
        "        loss = F.cross_entropy(out, labels)\n",
        "        acc = accuracy(out, labels)\n",
        "        return {'val_loss':loss, 'val_acc': acc}\n",
        "\n",
        "    def validation_epoch_end(self, outputs):\n",
        "        batch_losses = [x['val_loss'] for x in outputs]\n",
        "        epoch_loss = torch.stack(batch_losses).mean()\n",
        "        batch_accs = [x['val_acc'] for x in outputs]\n",
        "        epoch_acc = torch.stack(batch_accs).mean()\n",
        "        return {'val_loss': epoch_loss.item(), 'val_acc' : epoch_acc.item()}\n",
        "\n",
        "    def epoch_end(self, epoch,result):\n",
        "        print(\"Epoch [{}], val_loss: {:.4f}, val_acc: {:.4f}\".format(epoch, result['val_loss'], result['val_acc']))\n",
        "\n",
        "model = MnistModel()\n"
      ]
    },
    {
      "cell_type": "code",
      "execution_count": 14,
      "metadata": {
        "id": "peXKqvqydHhD"
      },
      "outputs": [],
      "source": [
        "def evaluate(model, val_loader):\n",
        "    outputs = [model.validation_step(batch) for batch in val_loader]\n",
        "    return model.validation_epoch_end(outputs)\n",
        "\n",
        "def fit(epochs, lr, model, train_loader, val_loader, opt_func = torch.optim.SGD):\n",
        "    history = []\n",
        "    optimizer = opt_func(model.parameters(), lr)\n",
        "    for epoch in range(epochs):\n",
        "\n",
        "        ## Training Phas\n",
        "        for batch in train_loader:\n",
        "            optimizer.zero_grad()\n",
        "            loss = model.training_step(batch)\n",
        "            loss.backward()\n",
        "            optimizer.step()\n",
        "\n",
        "        result = evaluate(model, val_loader)\n",
        "        model.epoch_end(epoch, result)\n",
        "        history.append(result)\n",
        "    return history"
      ]
    },
    {
      "cell_type": "code",
      "execution_count": 15,
      "metadata": {
        "colab": {
          "base_uri": "https://localhost:8080/"
        },
        "id": "1JLiTorkdagD",
        "outputId": "43324965-21b4-4f3c-b83d-bb61d09b7bd6"
      },
      "outputs": [
        {
          "data": {
            "text/plain": [
              "{'val_loss': 2.322331428527832, 'val_acc': 0.10474999994039536}"
            ]
          },
          "execution_count": 15,
          "metadata": {},
          "output_type": "execute_result"
        }
      ],
      "source": [
        "result0 = evaluate(model, val_loader)\n",
        "result0"
      ]
    },
    {
      "cell_type": "code",
      "execution_count": 16,
      "metadata": {
        "colab": {
          "base_uri": "https://localhost:8080/"
        },
        "id": "boLeMlNMdchW",
        "outputId": "a56e9a16-e8e7-4cea-e787-7e3d17e4cd18"
      },
      "outputs": [
        {
          "name": "stdout",
          "output_type": "stream",
          "text": [
            "Epoch [0], val_loss: 1.9756, val_acc: 0.6855\n",
            "Epoch [1], val_loss: 1.4249, val_acc: 0.7203\n",
            "Epoch [2], val_loss: 0.9653, val_acc: 0.7861\n",
            "Epoch [3], val_loss: 0.7341, val_acc: 0.8310\n",
            "Epoch [4], val_loss: 0.6117, val_acc: 0.8463\n"
          ]
        }
      ],
      "source": [
        "history1 = fit(5, 0.001, model, train_loader, val_loader)"
      ]
    },
    {
      "cell_type": "code",
      "execution_count": 17,
      "metadata": {
        "colab": {
          "base_uri": "https://localhost:8080/",
          "height": 489
        },
        "id": "STrFznWKdird",
        "outputId": "78bfce94-7f2b-40e7-8c6f-295125684852"
      },
      "outputs": [
        {
          "data": {
            "text/plain": [
              "Text(0.5, 1.0, 'Accuracy Vs. No. of epochs')"
            ]
          },
          "execution_count": 17,
          "metadata": {},
          "output_type": "execute_result"
        },
        {
          "data": {
            "image/png": "[encoded data removed]",
            "text/plain": [
              "<Figure size 640x480 with 1 Axes>"
            ]
          },
          "metadata": {},
          "output_type": "display_data"
        }
      ],
      "source": [
        "accuracies = [result['val_acc'] for result in history1]\n",
        "plt.plot(accuracies, '-x')\n",
        "plt.xlabel('epoch')\n",
        "plt.ylabel('accuracy')\n",
        "plt.title('Accuracy Vs. No. of epochs')"
      ]
    },
    {
      "cell_type": "code",
      "execution_count": 18,
      "metadata": {},
      "outputs": [
        {
          "data": {
            "text/plain": [
              "Text(0.5, 1.0, 'Loss Vs. No. of epochs')"
            ]
          },
          "execution_count": 18,
          "metadata": {},
          "output_type": "execute_result"
        },
        {
          "data": {
            "image/png": "[encoded data removed]",
            "text/plain": [
              "<Figure size 640x480 with 1 Axes>"
            ]
          },
          "metadata": {},
          "output_type": "display_data"
        }
      ],
      "source": [
        "losses = [result['val_loss'] for result in history1]\n",
        "plt.plot(losses, '-x')\n",
        "plt.xlabel('epoch')\n",
        "plt.ylabel('loss')\n",
        "plt.title('Loss Vs. No. of epochs')"
      ]
    },
    {
      "cell_type": "markdown",
      "metadata": {
        "id": "QTeNSAKheLGJ"
      },
      "source": [
        "#Test"
      ]
    },
    {
      "cell_type": "code",
      "execution_count": 19,
      "metadata": {
        "id": "jrtz92_DeFJU"
      },
      "outputs": [],
      "source": [
        "test_dataset = MNIST(root = 'data/', train = False, transform = transforms.ToTensor())"
      ]
    },
    {
      "cell_type": "code",
      "execution_count": 20,
      "metadata": {
        "colab": {
          "base_uri": "https://localhost:8080/",
          "height": 465
        },
        "id": "xDzWuee9eN3q",
        "outputId": "0c0cdf55-00ec-43a7-dd64-9aab541b58dc"
      },
      "outputs": [
        {
          "name": "stdout",
          "output_type": "stream",
          "text": [
            "shape:  torch.Size([1, 28, 28])\n",
            "Label:  7\n"
          ]
        },
        {
          "data": {
            "image/png": "[encoded data removed]",
            "text/plain": [
              "<Figure size 640x480 with 1 Axes>"
            ]
          },
          "metadata": {},
          "output_type": "display_data"
        }
      ],
      "source": [
        "img, label = test_dataset[0]\n",
        "plt.imshow(img[0], cmap = 'gray')\n",
        "print(\"shape: \", img.shape)\n",
        "print('Label: ', label)"
      ]
    },
    {
      "cell_type": "code",
      "execution_count": 21,
      "metadata": {
        "colab": {
          "base_uri": "https://localhost:8080/"
        },
        "id": "xXJl0mXYeW65",
        "outputId": "51ea62b4-f6e5-45ae-9757-74329b692459"
      },
      "outputs": [
        {
          "name": "stdout",
          "output_type": "stream",
          "text": [
            "torch.Size([1, 1, 28, 28])\n",
            "torch.Size([1, 28, 28])\n"
          ]
        }
      ],
      "source": [
        "print(img.unsqueeze(0).shape)\n",
        "print(img.shape)"
      ]
    },
    {
      "cell_type": "code",
      "execution_count": 22,
      "metadata": {
        "id": "spCCDmcjeQOB"
      },
      "outputs": [],
      "source": [
        "def predict_image(img, model):\n",
        "    xb = img.unsqueeze(0)\n",
        "    yb = model(xb)\n",
        "    _, preds = torch.max(yb, dim = 1)\n",
        "    return(preds[0].item())"
      ]
    },
    {
      "cell_type": "code",
      "execution_count": 23,
      "metadata": {
        "colab": {
          "base_uri": "https://localhost:8080/",
          "height": 447
        },
        "id": "19asCwPReXfw",
        "outputId": "ca40607e-1690-4411-e352-561af5c6aadd"
      },
      "outputs": [
        {
          "name": "stdout",
          "output_type": "stream",
          "text": [
            "Label: 8 , Predicted : 7\n"
          ]
        },
        {
          "data": {
            "image/png": "[encoded data removed]",
            "text/plain": [
              "<Figure size 640x480 with 1 Axes>"
            ]
          },
          "metadata": {},
          "output_type": "display_data"
        }
      ],
      "source": [
        "img, label = test_dataset[6555]\n",
        "plt.imshow(img[0], cmap = 'gray')\n",
        "print('Label:', label, ', Predicted :', predict_image(img, model))"
      ]
    },
    {
      "cell_type": "code",
      "execution_count": 24,
      "metadata": {
        "id": "ruPQQU4eeaNO"
      },
      "outputs": [],
      "source": [
        "torch.save(model.state_dict(), 'mnist-logistic.pth')"
      ]
    }
  ],
  "metadata": {
    "colab": {
      "provenance": []
    },
    "kernelspec": {
      "display_name": "Python 3.11.9 64-bit (microsoft store)",
      "language": "python",
      "name": "python3"
    },
    "language_info": {
      "codemirror_mode": {
        "name": "ipython",
        "version": 3
      },
      "file_extension": ".py",
      "mimetype": "text/x-python",
      "name": "python",
      "nbconvert_exporter": "python",
      "pygments_lexer": "ipython3",
      "version": "3.11.9"
    },
    "vscode": {
      "interpreter": {
        "hash": "d1e76f36fd497ba09966a644cdb5ca2914f26d4c9a4ffe25cd98fef631710b92"
      }
    }
  },
  "nbformat": 4,
  "nbformat_minor": 0
}
